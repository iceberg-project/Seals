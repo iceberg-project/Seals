{
 "cells": [
  {
   "cell_type": "markdown",
   "metadata": {},
   "source": [
    "## Sealnet -- deployment\n",
    "\n",
    "---\n",
    "\n",
    "This jupyter allows you to make predictions on your own images with the seal detection pipeline. *WARNING* : CNNs used here were trained on panchromatic WorldView-3 imagery so results may not be satisfactory on different imagery / color bands. "
   ]
  },
  {
   "cell_type": "markdown",
   "metadata": {},
   "source": [
    "### Load packages"
   ]
  },
  {
   "cell_type": "code",
   "execution_count": 1,
   "metadata": {
    "collapsed": true
   },
   "outputs": [],
   "source": [
    "import os"
   ]
  },
  {
   "cell_type": "markdown",
   "metadata": {},
   "source": [
    "### Call detection pipeline \n",
    "\n",
    "Though you are free to try different combinations, the current setup of CNNs provides the best results on our test images. "
   ]
  },
  {
   "cell_type": "code",
   "execution_count": 7,
   "metadata": {
    "scrolled": true
   },
   "outputs": [
    {
     "name": "stdout",
     "output_type": "stream",
     "text": [
      "\n",
      "31838 tiles created in 0 minutes and 37.18 seconds\n",
      "\n",
      "Predicting with sealnet_predictions_test:\n",
      "Testing complete in 0.0h 5m 5s\n",
      "    Total predicted in WV03_20170203044432_1040010028C45900_17FEB03044432-P1BS-501172834040_01_P001_u08rf3031.tif:  333\n",
      "\n",
      "43335 tiles created in 0 minutes and 52.58 seconds\n",
      "\n",
      "Predicting with sealnet_predictions_test:\n",
      "Testing complete in 0.0h 6m 40s\n",
      "    Total predicted in WV03_20170202190457_1040010028965400_17FEB02190457-P1BS-501172778010_01_P004_u08rf3031.tif:  0\n",
      "\n",
      "31991 tiles created in 0 minutes and 44.20 seconds\n",
      "\n",
      "Predicting with sealnet_predictions_test:\n",
      "Testing complete in 0.0h 5m 4s\n",
      "    Total predicted in WV03_20170204000736_104001002678E600_17FEB04000736-P1BS-501513717060_01_P001_u08rf3031.tif:  98\n",
      "\n",
      "19586 tiles created in 0 minutes and 24.68 seconds\n",
      "\n",
      "Predicting with sealnet_predictions_test:\n",
      "Testing complete in 0.0h 3m 6s\n",
      "    Total predicted in WV03_20170202221638_104001002983B700_17FEB02221638-P1BS-501174626090_01_P002_u08rf3031.tif:  30\n",
      "\n",
      "34577 tiles created in 0 minutes and 49.77 seconds\n",
      "\n",
      "Predicting with sealnet_predictions_test:\n",
      "Testing complete in 0.0h 5m 21s\n",
      "    Total predicted in WV03_20170301144508_104001002A465700_17MAR01144508-P1BS-501556087040_01_P001_u08rf3031.tif:  70\n"
     ]
    }
   ],
   "source": [
    "# select training set, model and hyperparameters\n",
    "t_dir = 'training_set_vanilla'\n",
    "mod_arch = 'UnetCntWRNOccDense'\n",
    "hyp_set = 'E'\n",
    "\n",
    "# setup input folder ** change here **\n",
    "inp_fldr = '/home/bento/testing_scenes'\n",
    "\n",
    "# setup output folder ** change here **\n",
    "out_fldr = './sealnet_predictions_test'\n",
    "\n",
    "# loop through images\n",
    "inp_imgs = [img for img in os.listdir('{}'.format(inp_fldr)) if img[-4:] == '.tif']\n",
    "for img in inp_imgs:\n",
    "    img_path = '{}/{}'.format(inp_fldr, img)\n",
    "    # call pipeline \n",
    "    !python predict_raster.py --input_image=$img_path \\\n",
    "                              --model_architecture=$mod_arch \\\n",
    "                              --hyperparameter_set=$hyp_set \\\n",
    "                              --training_dir=$t_dir --dest_folder=$out_fldr \n",
    "            "
   ]
  },
  {
   "cell_type": "markdown",
   "metadata": {},
   "source": [
    "### Testing predictions"
   ]
  },
  {
   "cell_type": "code",
   "execution_count": null,
   "metadata": {
    "collapsed": true
   },
   "outputs": [],
   "source": [
    "# setup output folder ** change here **\n",
    "inp_fldr = 'sealnet_predictions_test'\n",
    "mod_arch = 'UnetCntWRN'\n",
    "out_fldr = '{}/merged_shapefiles_{}/'.format(inp_fldr, mod_arch)\n",
    "\n",
    "# merge shapefiles\n",
    "!python merge_shapefiles.py --input_dir=$inp_fldr --output_dir=$out_fldr\n",
    "\n",
    "# test predictions\n",
    "shp_prediction = '{}/merged_locations.dbf'.format(out_fldr)\n",
    "shp_ground_truth = './shape_files/seal-points-test.dbf'\n",
    "output_file = '{}/{}_prec_recall.csv'.format(inp_fldr, mod_arch)\n",
    "\n",
    "!python test_sealnet.py --shp_prediction=$shp_prediction \\\n",
    "                        --shp_ground_truth=$shp_ground_truth \\\n",
    "                        --tolerance=3 \\\n",
    "                        --output_file=$output_file"
   ]
  }
 ],
 "metadata": {
  "kernelspec": {
   "display_name": "Python 3",
   "language": "python",
   "name": "python3"
  },
  "language_info": {
   "codemirror_mode": {
    "name": "ipython",
    "version": 3
   },
   "file_extension": ".py",
   "mimetype": "text/x-python",
   "name": "python",
   "nbconvert_exporter": "python",
   "pygments_lexer": "ipython3",
   "version": "3.6.3"
  }
 },
 "nbformat": 4,
 "nbformat_minor": 2
}
