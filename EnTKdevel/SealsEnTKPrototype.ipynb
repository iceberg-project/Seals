{
 "cells": [
  {
   "cell_type": "markdown",
   "metadata": {},
   "source": [
    "# EnTK Seals Pipeline notebook.\n",
    "\n",
    "This notebook provides a prototypical implementation of the Seal use case, as it is shown in the [Seal Execution Model](https://docs.google.com/document/d/1E79LfwXG1ZJ1fTQiGsDvSggE6BJSDEqAyHKcCxjqgoY/edit?ts=5af5d13e). Each cell of the notebook creates a necesary component of the pipeline definition."
   ]
  },
  {
   "cell_type": "code",
   "execution_count": 1,
   "metadata": {},
   "outputs": [],
   "source": [
    "from radical.entk import Pipeline, Stage, Task, AppManager, ResourceManager"
   ]
  },
  {
   "cell_type": "markdown",
   "metadata": {},
   "source": [
    "## Pipeline Definition\n",
    "\n",
    "The next cell defines the prototype pipeline for the Seal Use case. The pipeline has two stages, and each stage has a single task.\n",
    "The first stage executes the prediction and the second the detection.\n",
    "\n",
    "What needs to be added is [Stage number 0](https://docs.google.com/document/d/1E79LfwXG1ZJ1fTQiGsDvSggE6BJSDEqAyHKcCxjqgoY/edit?ts=5af5d13e) and the last stage that aggregates the results. Also, the single task in both cases should be broken to multiple tasks based on the number of images."
   ]
  },
  {
   "cell_type": "code",
   "execution_count": null,
   "metadata": {},
   "outputs": [],
   "source": [
    "def generate_pipeline(name, stages):  #generate the pipeline of prediction and blob detection\n",
    "\n",
    "    # Create a Pipeline object\n",
    "    p = Pipeline()\n",
    "    p.name = name\n",
    "\n",
    "    for s_cnt in range(stages):\n",
    "\n",
    "        # Create a Stage object\n",
    "        s = Stage()\n",
    "        s.name = 'Stage %s'%s_cnt\n",
    "        if(stage==1):\n",
    "            # Create Task 1, training\n",
    "            t1 = Task()\n",
    "            t1.name = 'Predictor'\n",
    "            t1.pre_exec = ['module load python3',\n",
    "                          'module load cuda',\n",
    "                          'module load opencv',\n",
    "                          'module load gcc',\n",
    "                          'mkdir -p classified_images/crabeater',\n",
    "                          'mkdir -p classified_images/weddel',\n",
    "                          'mkdir -p classified_images/packi-ice',\n",
    "                          'mkdir -p classified_images/other'\n",
    "                         ]\n",
    "            t1.executable = 'python3'   # Assign executable to the task   \n",
    "            # Assign arguments for the task executable\n",
    "            t1.arguments = ['pt_predict.py','-class_names','crabeater','weddel','pack-ice','other']\n",
    "            s.add_tasks(t1)\n",
    "        else:\n",
    "            # Create Task 2, \n",
    "            t2 = Task()\n",
    "            t2.pre_exec = ['module load python3',\n",
    "                          'module load cuda',\n",
    "                          'module load opencv',\n",
    "                          'module load gcc',\n",
    "                          'mkdir -p classified_images/crabeater',\n",
    "                          'mkdir -p classified_images/weddel',\n",
    "                          'mkdir -p classified_images/packi-ice',\n",
    "                          'mkdir -p classified_images/other'\n",
    "                         ]\n",
    "            t2.name = 'Blob_detector'         \n",
    "            t2.executable = ['python3']   # Assign executable to the task   \n",
    "            # Assign arguments for the task executable\n",
    "            t2.arguments = ['blob_detector.py']\n",
    "            t2.link_input_data = ['$Pipline_%s_Stage_%s_Task_%s/classified_images/crabeater/*'%(p.uid, s.uid, t1.uid),\n",
    "                                  '$Pipline_%s_Stage_%s_Task_%s/classified_images/weddel/*'%(p.uid, s.uid, t1.uid),\n",
    "                                  '$Pipline_%s_Stage_%s_Task_%s/classified_images/packi-ice/*'%(p.uid, s.uid, t1.uid),\n",
    "                                  '$Pipline_%s_Stage_%s_Task_%s/classified_images/other/*'%(p.uid, s.uid, t1.uid)]\n",
    "            t2.download_output_data = ['classified_images'] #Download resuting images \n",
    "            s.add_tasks(t2)\n",
    "\n",
    "    # Add Stage to the Pipeline\n",
    "    p.add_stages(s)\n",
    "\n",
    "    return p"
   ]
  },
  {
   "cell_type": "code",
   "execution_count": null,
   "metadata": {},
   "outputs": [],
   "source": [
    "p1 = generate_pipeline(name='Pipeline 1', stages=2)"
   ]
  },
  {
   "cell_type": "code",
   "execution_count": null,
   "metadata": {},
   "outputs": [],
   "source": [
    " res_dict = {'resource': 'xsede.bridges',\n",
    "             'username': '' #username is not currently included in ensemble toolkit,               so an error arises\n",
    "             'walltime': 10,\n",
    "             'cores': 1,\n",
    "             'project': '',\n",
    "    }"
   ]
  },
  {
   "cell_type": "code",
   "execution_count": null,
   "metadata": {},
   "outputs": [],
   "source": [
    "# Create Application Manager\n",
    "appman = AppManager(port=32773)\n",
    "\n",
    "# Assign resource manager to the Application Manager\n",
    "appman.resource_manager = rman\n",
    "\n",
    "# Assign the workflow as a set of Pipelines to the Application Manager\n",
    "appman.assign_workflow(set([p]))\n",
    "\n",
    "# Run the Application Manager\n",
    "appman.run()"
   ]
  }
 ],
 "metadata": {
  "kernelspec": {
   "display_name": "Python 2",
   "language": "python",
   "name": "python2"
  },
  "language_info": {
   "codemirror_mode": {
    "name": "ipython",
    "version": 2
   },
   "file_extension": ".py",
   "mimetype": "text/x-python",
   "name": "python",
   "nbconvert_exporter": "python",
   "pygments_lexer": "ipython2",
   "version": "2.7.15"
  }
 },
 "nbformat": 4,
 "nbformat_minor": 2
}
