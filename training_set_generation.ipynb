{
 "cells": [
  {
   "cell_type": "markdown",
   "metadata": {},
   "source": [
    "# Training set creation\n",
    "\n",
    "## Getting started\n",
    "\n",
    "This notebook will walk you through how we created the training set to train and validate instances of sealnet. From generating a vector database to extracting patches from rasters. To recreate the training set, you will need Qgis, Python 3.6, WV03 raster image catalog and a shapefile with a database for seal occurences (for a formatting reference see: *\"/shape_files/seal-points-train\"*).  "
   ]
  },
  {
   "cell_type": "markdown",
   "metadata": {},
   "source": [
    "## Table of contents\n",
    "---\n",
    "* [Exporting points](#exp)\n",
    "* [Extracting patches](#extract)\n",
    "    "
   ]
  },
  {
   "cell_type": "markdown",
   "metadata": {},
   "source": [
    "## Exporting points <a name=\"exp\"></a>\n",
    "---"
   ]
  },
  {
   "cell_type": "markdown",
   "metadata": {},
   "source": [
    "Before we can extract patches from raster files, we need to export our database of seal points to a csv file. This operation can be performed with the MMQGIS plugin within Qgis using the 'export geometry' option. If you selected the correct shape file as the input layer, you will be prompted to save a .csv file. Keep the default name and move this .csv file to the root directory of this repository. "
   ]
  },
  {
   "cell_type": "markdown",
   "metadata": {},
   "source": [
    "## Extracting patches<a name=\"extract\"></a>\n",
    "---\n",
    "\n",
    "Once the output from the geometry export is in the repository root, we are ready to extract patches from the raster files. Run the following cell to extract patches and create the training sets. This process will take around 20 minutes and requires at least 16GB of RAM. "
   ]
  },
  {
   "cell_type": "code",
   "execution_count": null,
   "metadata": {
    "scrolled": false
   },
   "outputs": [],
   "source": [
    "# point to folder with raster images\n",
    "raster_dir = '/home/bento/training_set_scenes'\n",
    "\n",
    "# training set vanilla\n",
    "\n",
    "# point to shapefile\n",
    "shape_file = 'temp-nodes.csv'\n",
    "# specify training labels, separate each class by an '_', classes need to correspond to ones in the shapefile\n",
    "labels = 'crabeater_crack_emperor_glacier_ice-sheet_marching-emperor_open-water_pack-ice_rock_shadow_weddell'\n",
    "# specify labels of classes used for detection\n",
    "det_classes = 'crabeater_weddell'\n",
    "\n",
    "%run create_trainingset.py --det_classes=$det_classes --rasters_dir=$raster_dir --scale_bands='450' --out_folder='training_set_vanilla' --labels=$labels --shape_file=$shape_file --rgb='0'\n"
   ]
  }
 ],
 "metadata": {
  "kernelspec": {
   "display_name": "Python 3",
   "language": "python",
   "name": "python3"
  },
  "language_info": {
   "codemirror_mode": {
    "name": "ipython",
    "version": 3
   },
   "file_extension": ".py",
   "mimetype": "text/x-python",
   "name": "python",
   "nbconvert_exporter": "python",
   "pygments_lexer": "ipython3",
   "version": "3.6.3"
  }
 },
 "nbformat": 4,
 "nbformat_minor": 1
}
