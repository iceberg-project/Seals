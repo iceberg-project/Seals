{
 "cells": [
  {
   "cell_type": "markdown",
   "metadata": {},
   "source": [
    "## Sealnet -- deployment\n",
    "\n",
    "---\n",
    "\n",
    "This jupyter allows you to make predictions on your own images with the seal detection pipeline. *WARNING* : CNNs used here were trained on panchromatic WorldView-3 imagery so results may not be satisfactory on different imagery / color bands. "
   ]
  },
  {
   "cell_type": "markdown",
   "metadata": {},
   "source": [
    "### Load packages"
   ]
  },
  {
   "cell_type": "code",
   "execution_count": 1,
   "metadata": {},
   "outputs": [],
   "source": [
    "import os"
   ]
  },
  {
   "cell_type": "markdown",
   "metadata": {},
   "source": [
    "### Call detection pipeline \n",
    "\n",
    "Though you are free to try different combinations, the current setup of CNNs provides the best results on our test images. "
   ]
  },
  {
   "cell_type": "code",
   "execution_count": 18,
   "metadata": {},
   "outputs": [
    {
     "name": "stdout",
     "output_type": "stream",
     "text": [
      "\n",
      "4536 tiles created in 0 minutes and 16.42 seconds\n",
      "\n",
      "Predicting with sealnet_predictions_test:\n",
      "Testing complete in 0.0h 2m 23s\n",
      "    Total predicted in test.tif:  227\n"
     ]
    }
   ],
   "source": [
    "# select classification CNN and hyperparameter set\n",
    "cls_arch = 'NasnetA'\n",
    "hyp_cls = 'E'\n",
    "t_dir = 'training_set_binary'\n",
    "if t_dir.split('_')[-1] == 'binary':\n",
    "    pos_classes = 'seal'\n",
    "else:\n",
    "    pos_classes = 'crabeater_weddell_pack-ice_ice-sheet_crack'\n",
    "\n",
    "# whether we want to skip classification\n",
    "skip = 1\n",
    "\n",
    "# select counting / detection CNN and hyperparameter set\n",
    "det_arch = 'UnetDet'\n",
    "hyp_cnt = 'B'\n",
    "\n",
    "# setup input folder ** change here **\n",
    "inp_fldr = './test_scenes'\n",
    "\n",
    "# setup output folder ** change here **\n",
    "out_fldr = 'sealnet_predictions_test'\n",
    "\n",
    "# loop through images\n",
    "inp_imgs = [img for img in os.listdir('{}'.format(inp_fldr)) if img[-4:] == '.tif']\n",
    "for img in inp_imgs:\n",
    "    img_path = '{}/{}'.format(inp_fldr, img)\n",
    "    # call pipeline \n",
    "    !python predict_raster_det.py --input_image=$img_path \\\n",
    "                                  --class_architecture=$cls_arch --det_architecture=$det_arch \\\n",
    "                                  --hyperparameter_set_class=$hyp_cls --hyperparameter_set_count=$hyp_cnt \\\n",
    "                                  --training_dir=$t_dir --dest_folder=$out_fldr \\\n",
    "                                  --pos_classes=$pos_classes --skip_class=$skip\n",
    "            "
   ]
  }
 ],
 "metadata": {
  "kernelspec": {
   "display_name": "Python 3",
   "language": "python",
   "name": "python3"
  },
  "language_info": {
   "codemirror_mode": {
    "name": "ipython",
    "version": 3
   },
   "file_extension": ".py",
   "mimetype": "text/x-python",
   "name": "python",
   "nbconvert_exporter": "python",
   "pygments_lexer": "ipython3",
   "version": "3.6.6"
  }
 },
 "nbformat": 4,
 "nbformat_minor": 2
}
