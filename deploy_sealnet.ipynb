{
 "cells": [
  {
   "cell_type": "markdown",
   "metadata": {},
   "source": [
    "SealNet Detection Pipeline-- deployment\n",
    "======\n",
    "\n",
    "SealNet deployment code. This jupyter notebook allows you to make predictions on your own images with the seal detection pipeline. *WARNING* : CNNs used here were trained on panchromatic WorldView-3 imagery so results may not be satisfactory on different imagery / color bands. "
   ]
  },
  {
   "cell_type": "markdown",
   "metadata": {},
   "source": [
    "### Load packages"
   ]
  },
  {
   "cell_type": "code",
   "execution_count": 2,
   "metadata": {},
   "outputs": [],
   "source": [
    "import os"
   ]
  },
  {
   "cell_type": "markdown",
   "metadata": {},
   "source": [
    "### Call detection pipeline \n",
    "\n",
    "The following cell will tile all rasters on *inp_fldr* and generate output shapefiles with s predicted seal points for all architectures listed on *mod_arches*. For a list of supported architectures, training sets , and hyperparameter sets, see: \"*utils/model_library.py*\" under the main repository."
   ]
  },
  {
   "cell_type": "code",
   "execution_count": 48,
   "metadata": {},
   "outputs": [
    {
     "name": "stdout",
     "output_type": "stream",
     "text": [
      "\n",
      "6434 tiles created in 0 minutes and 8.64 seconds\n",
      "Testing complete in 0h 0m 17s\n",
      "Total predicted in WV03_20170128160800_104001002876EA00_17JAN28160800-P1BS-501143588010_01_P012_u08rf3031.tif:  0\n",
      "\n",
      "8523 tiles created in 0 minutes and 10.91 seconds\n",
      "Testing complete in 0h 0m 21s\n",
      "Total predicted in WV03_20170122143356_10400100280D8300_17JAN22143356-P1BS-501135119080_01_P004_u08rf3031.tif:  15\n",
      "\n",
      "7891 tiles created in 0 minutes and 10.74 seconds\n",
      "Testing complete in 0h 0m 21s\n",
      "Total predicted in WV03_20170228142819_104001002995B900_17FEB28142819-P1BS-501556010060_01_P001_u08rf3031.tif:  33\n",
      "\n",
      "9475 tiles created in 0 minutes and 13.72 seconds\n",
      "Testing complete in 0h 0m 24s\n",
      "Total predicted in WV03_20170217212037_104001002911B000_17FEB17212037-P1BS-501172848090_01_P005_u08rf3031.tif:  6\n",
      "\n",
      "6867 tiles created in 0 minutes and 11.04 seconds\n",
      "Testing complete in 0h 0m 20s\n",
      "Total predicted in WV03_20170116143631_104001002810BA00_17JAN16143631-P1BS-501135120050_01_P001_u08rf3031.tif:  77\n",
      "\n",
      "9798 tiles created in 0 minutes and 14.66 seconds\n",
      "Testing complete in 0h 0m 24s\n",
      "Total predicted in WV03_20170117051826_1040010025C71C00_17JAN17051826-P1BS-501133088030_01_P008_u08rf3031.tif:  3\n"
     ]
    }
   ],
   "source": [
    "# select training set, model and hyperparameters\n",
    "#mod_arches = ['Unet', 'UnetCntWRN', 'UnetCntWRNOccDense']\n",
    "mod_arches = ['UnetCntWRNOccDense']\n",
    "t_dir = 'training_set_vanilla'\n",
    "hyp_set = 'D'\n",
    "\n",
    "# setup input folder ** change here **\n",
    "inp_fldr = '/home/bento/GIS_projects/test_imagery'\n",
    "\n",
    "# loop through architectures\n",
    "for mod_arch in mod_arches:\n",
    "    out_fldr = 'test_predictions_{}'.format(mod_arch)\n",
    "\n",
    "    # loop through images\n",
    "    inp_imgs = [img for img in os.listdir('{}'.format(inp_fldr)) if img[-4:] == '.tif']\n",
    "    for img in inp_imgs:\n",
    "        img_path = '{}/{}'.format(inp_fldr, img)\n",
    "        out_fldr_img = '{}/{}'.format(out_fldr, img)\n",
    "        # call pipeline \n",
    "        !python predict_raster.py --input_image=$img_path \\\n",
    "                                  --model_architecture=$mod_arch \\\n",
    "                                  --hyperparameter_set=$hyp_set \\\n",
    "                                  --training_set=$t_dir --test_folder=$out_fldr_img \\\n",
    "                                  --stride=0.5"
   ]
  },
  {
   "cell_type": "markdown",
   "metadata": {},
   "source": [
    "### Testing predictions\n",
    "\n",
    "The following cell will merge all predicted shapefiles generated above and check them against a reference shapefile to get precision and recall. For a template on reference shapefiles see \"*shape_files/seal-points-consensus.shp*\" under the main repository. "
   ]
  },
  {
   "cell_type": "code",
   "execution_count": 13,
   "metadata": {
    "collapsed": true
   },
   "outputs": [],
   "source": [
    "# setup output folder ** change here **\n",
    "mod_arches = ['Unet', 'UnetCntWRN', 'UnetCntWRNOccDense']\n",
    "for mod_arch in mod_arches:\n",
    "    inp_fldr = 'test_predictions_{}'.format(mod_arch)\n",
    "    out_fldr = '{}/merged_shapefiles'.format(inp_fldr)\n",
    "\n",
    "    # merge shapefiles\n",
    "    !python merge_shapefiles.py --input_dir=$inp_fldr --output_dir=$out_fldr\n",
    "\n",
    "    # test predictions\n",
    "    shp_prediction = '{}/merged_locations.dbf'.format(out_fldr)\n",
    "    shp_ground_truth = 'shape_files/seal-points-consensus.dbf'\n",
    "    output_file = '{}/{}_'.format(inp_fldr, mod_arch)\n",
    "\n",
    "    !python test_sealnet.py --shp_prediction=$shp_prediction \\\n",
    "                            --shp_ground_truth=$shp_ground_truth \\\n",
    "                            --tolerance_seal=5 \\\n",
    "                            --tolerance_haul=20 \\\n",
    "                            --output_file=$output_file"
   ]
  }
 ],
 "metadata": {
  "kernelspec": {
   "display_name": "Python 3",
   "language": "python",
   "name": "python3"
  },
  "language_info": {
   "codemirror_mode": {
    "name": "ipython",
    "version": 3
   },
   "file_extension": ".py",
   "mimetype": "text/x-python",
   "name": "python",
   "nbconvert_exporter": "python",
   "pygments_lexer": "ipython3",
   "version": "3.7.3"
  }
 },
 "nbformat": 4,
 "nbformat_minor": 2
}
