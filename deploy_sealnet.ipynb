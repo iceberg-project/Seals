{
 "cells": [
  {
   "cell_type": "code",
   "execution_count": null,
   "metadata": {},
   "outputs": [],
   "source": [
    "## Sealnet -- deployment\n",
    "\n",
    "---\n",
    "\n",
    "This jupyter allows you to make predictions on your own images with the seal detection pipeline. *WARNING* : CNNs used here were trained on panchromatic WorldView-3 imagery so results may not be satisfactory on different imagery / color bands. "
   ]
  },
  {
   "cell_type": "markdown",
   "metadata": {},
   "source": [
    "### Load packages"
   ]
  },
  {
   "cell_type": "code",
   "execution_count": 1,
   "metadata": {
    "collapsed": true
   },
   "outputs": [],
   "source": [
    "import os"
   ]
  },
  {
   "cell_type": "markdown",
   "metadata": {},
   "source": [
    "### Call detection pipeline \n",
    "\n",
    "Though you are free to try different combinations, the current setup of CNNs provides the best results on our test images. "
   ]
  },
  {
   "cell_type": "code",
   "execution_count": null,
   "metadata": {},
   "outputs": [
    {
     "name": "stdout",
     "output_type": "stream",
     "text": [
      "\n",
      "127949 tiles created in 1 minutes and 17.92 seconds\n",
      "Testing complete in 0h 49m 34s\n",
      "Total predicted in WV03_20170204000736_104001002678E600_17FEB04000736-P1BS-501513717060_01_P001_u08rf3031.tif:  72\n",
      "\n",
      "138298 tiles created in 1 minutes and 26.89 seconds\n"
     ]
    }
   ],
   "source": [
    "# select training set, model and hyperparameters\n",
    "mod_arches = ['UnetCntWRNOccDense']\n",
    "t_dir = 'training_set_vanilla'\n",
    "hyp_set = 'F'\n",
    "\n",
    "# setup input folder ** change here **\n",
    "inp_fldr = '/home/bento/testing_scenes'\n",
    "\n",
    "# loop through architectures\n",
    "for mod_arch in mod_arches:\n",
    "    out_fldr = 'test_predictions_{}'.format(mod_arch)\n",
    "\n",
    "    # loop through images\n",
    "    inp_imgs = [img for img in os.listdir('{}'.format(inp_fldr)) if img[-4:] == '.tif']\n",
    "    for img in inp_imgs:\n",
    "        img_path = '{}/{}'.format(inp_fldr, img)\n",
    "        out_fldr_img = '{}/{}'.format(out_fldr, img)\n",
    "        # call pipeline \n",
    "        !python predict_raster.py --input_image=$img_path \\\n",
    "                                  --model_architecture=$mod_arch \\\n",
    "                                  --hyperparameter_set=$hyp_set \\\n",
    "                                  --training_set=$t_dir --test_folder=$out_fldr_img \\\n",
    "                                  --stride=0.5"
   ]
  },
  {
   "cell_type": "markdown",
   "metadata": {},
   "source": [
    "### Testing predictions"
   ]
  },
  {
   "cell_type": "code",
   "execution_count": 13,
   "metadata": {
    "collapsed": true
   },
   "outputs": [],
   "source": [
    "# setup output folder ** change here **\n",
    "mod_arches = ['Unet', 'UnetCntWRN', 'UnetCntWRNOccDense']\n",
    "for mod_arch in mod_arches:\n",
    "    inp_fldr = 'test_predictions_{}'.format(mod_arch)\n",
    "    out_fldr = '{}/merged_shapefiles'.format(inp_fldr)\n",
    "\n",
    "    # merge shapefiles\n",
    "    !python merge_shapefiles.py --input_dir=$inp_fldr --output_dir=$out_fldr\n",
    "\n",
    "    # test predictions\n",
    "    shp_prediction = '{}/merged_locations.dbf'.format(out_fldr)\n",
    "    shp_ground_truth = 'shape_files/seal-points-consensus.dbf'\n",
    "    output_file = '{}/{}_'.format(inp_fldr, mod_arch)\n",
    "\n",
    "    !python test_sealnet.py --shp_prediction=$shp_prediction \\\n",
    "                            --shp_ground_truth=$shp_ground_truth \\\n",
    "                            --tolerance_seal=5 \\\n",
    "                            --tolerance_haul=20 \\\n",
    "                            --output_file=$output_file"
   ]
  }
 ],
 "metadata": {
  "kernelspec": {
   "display_name": "Python 3",
   "language": "python",
   "name": "python3"
  },
  "language_info": {
   "codemirror_mode": {
    "name": "ipython",
    "version": 3
   },
   "file_extension": ".py",
   "mimetype": "text/x-python",
   "name": "python",
   "nbconvert_exporter": "python",
   "pygments_lexer": "ipython3",
   "version": "3.6.3"
  }
 },
 "nbformat": 4,
 "nbformat_minor": 2
}
