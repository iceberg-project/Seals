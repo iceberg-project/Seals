{
 "cells": [
  {
   "cell_type": "markdown",
   "metadata": {},
   "source": [
    "SealNet Detection Pipeline-- deployment\n",
    "======\n",
    "\n",
    "SealNet deployment code. This jupyter notebook allows you to make predictions on your own images with the seal detection pipeline. *WARNING* : CNNs used here were trained on panchromatic WorldView-3 imagery so results may not be satisfactory on different imagery / color bands. "
   ]
  },
  {
   "cell_type": "markdown",
   "metadata": {},
   "source": [
    "### Load packages"
   ]
  },
  {
   "cell_type": "code",
   "execution_count": 2,
   "metadata": {},
   "outputs": [],
   "source": [
    "import os"
   ]
  },
  {
   "cell_type": "markdown",
   "metadata": {},
   "source": [
    "### Call detection pipeline \n",
    "\n",
    "The following cell will tile all rasters on *inp_fldr* and generate output shapefiles with s predicted seal points for all architectures listed on *mod_arches*. For a list of supported architectures, training sets , and hyperparameter sets, see: \"*utils/model_library.py*\" under the main repository."
   ]
  },
  {
   "cell_type": "code",
   "execution_count": 35,
   "metadata": {},
   "outputs": [
    {
     "name": "stdout",
     "output_type": "stream",
     "text": [
      "\n",
      "511790 tiles created in 3 minutes and 5.97 seconds\n",
      "Testing complete in 0h 13m 47s\n",
      "Total predicted in WV03_20170204000736_104001002678E600_17FEB04000736-P1BS-501513717060_01_P001_u08rf3031.tif:  53\n",
      "\n",
      "313146 tiles created in 1 minutes and 37.20 seconds\n",
      "Testing complete in 0h 8m 30s\n",
      "Total predicted in WV03_20170202221638_104001002983B700_17FEB02221638-P1BS-501174626090_01_P002_u08rf3031.tif:  36\n",
      "\n",
      "553203 tiles created in 3 minutes and 35.02 seconds\n",
      "Testing complete in 0h 14m 59s\n",
      "Total predicted in WV03_20170301144508_104001002A465700_17MAR01144508-P1BS-501556087040_01_P001_u08rf3031.tif:  57\n",
      "\n",
      "509434 tiles created in 2 minutes and 55.07 seconds\n",
      "Testing complete in 0h 15m 18s\n",
      "Total predicted in WV03_20170203044432_1040010028C45900_17FEB03044432-P1BS-501172834040_01_P001_u08rf3031.tif:  812\n"
     ]
    }
   ],
   "source": [
    "# select training set, model and hyperparameters\n",
    "#mod_arches = ['Unet', 'UnetCntWRN', 'UnetCntWRNOccDense']\n",
    "mod_arches = ['UnetCntWRNOccDense']\n",
    "t_dir = 'training_set_vanilla'\n",
    "hyp_set = 'E'\n",
    "\n",
    "# setup input folder ** change here **\n",
    "inp_fldr = '/home/bento/Downloads/test_scenes'\n",
    "\n",
    "# loop through architectures\n",
    "for mod_arch in mod_arches:\n",
    "    out_fldr = 'test_predictions_{}'.format(mod_arch)\n",
    "\n",
    "    # loop through images\n",
    "    inp_imgs = [img for img in os.listdir('{}'.format(inp_fldr)) if img[-4:] == '.tif' and '_P004_' not in img]\n",
    "    for img in inp_imgs:\n",
    "        img_path = '{}/{}'.format(inp_fldr, img)\n",
    "        out_fldr_img = '{}/{}'.format(out_fldr, img)\n",
    "        # call pipeline \n",
    "        !python predict_raster.py --input_image=$img_path \\\n",
    "                                  --model_architecture=$mod_arch \\\n",
    "                                  --hyperparameter_set=$hyp_set \\\n",
    "                                  --training_set=$t_dir --test_folder=$out_fldr_img \\\n",
    "                                  --stride=0.25 --models_folder='saved_models_all_train'"
   ]
  },
  {
   "cell_type": "markdown",
   "metadata": {},
   "source": [
    "### Testing predictions\n",
    "\n",
    "The following cell will merge all predicted shapefiles generated above and check them against a reference shapefile to get precision and recall. For a template on reference shapefiles see \"*shape_files/seal-points-consensus.shp*\" under the main repository. "
   ]
  },
  {
   "cell_type": "code",
   "execution_count": 36,
   "metadata": {},
   "outputs": [],
   "source": [
    "# setup output folder ** change here **\n",
    "#mod_arches = ['Unet', 'UnetCntWRN', 'UnetCntWRNOccDense']\n",
    "mod_arches = ['UnetCntWRNOccDense']\n",
    "for mod_arch in mod_arches:\n",
    "    inp_fldr = 'test_predictions_{}'.format(mod_arch)\n",
    "    out_fldr = '{}/merged_shapefiles'.format(inp_fldr)\n",
    "\n",
    "    # merge shapefiles\n",
    "    !python merge_shapefiles.py --input_dir=$inp_fldr --output_dir=$out_fldr\n",
    "\n",
    "    # test predictions\n",
    "    shp_prediction = '{}/merged.dbf'.format(out_fldr)\n",
    "    shp_ground_truth = 'shape_files/test_set_consensus/seal-points-test-consensus.dbf'\n",
    "    output_file = '{}/{}_'.format(inp_fldr, mod_arch)\n",
    "\n",
    "    !python test_sealnet.py --shp_prediction=$shp_prediction \\\n",
    "                            --shp_ground_truth=$shp_ground_truth \\\n",
    "                            --tolerance_seal=5 \\\n",
    "                            --tolerance_haul=20 \\\n",
    "                            --output_file=$output_file"
   ]
  }
 ],
 "metadata": {
  "kernelspec": {
   "display_name": "Python 3",
   "language": "python",
   "name": "python3"
  },
  "language_info": {
   "codemirror_mode": {
    "name": "ipython",
    "version": 3
   },
   "file_extension": ".py",
   "mimetype": "text/x-python",
   "name": "python",
   "nbconvert_exporter": "python",
   "pygments_lexer": "ipython3",
   "version": "3.7.3"
  }
 },
 "nbformat": 4,
 "nbformat_minor": 2
}
